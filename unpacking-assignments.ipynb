{
 "cells": [
  {
   "cell_type": "raw",
   "id": "aa12cb27-ac8f-48cf-aa0d-d6131a7cea58",
   "metadata": {},
   "source": [
    "Unpacking assignment is a way to initialize variables outof a list or tuple."
   ]
  },
  {
   "cell_type": "code",
   "execution_count": 1,
   "id": "9797fdd2-a873-487a-8200-79eb4fa707d9",
   "metadata": {},
   "outputs": [
    {
     "name": "stdout",
     "output_type": "stream",
     "text": [
      "Affan Furqan\n"
     ]
    }
   ],
   "source": [
    "# Unpacking a list\n",
    "names = [ 'Affan', 'Furqan' ]\n",
    "n1, n2 = names\n",
    "print (n1, n2)"
   ]
  },
  {
   "cell_type": "code",
   "execution_count": 4,
   "id": "63ff764a-d5f1-4deb-accc-373bf1f2c2f3",
   "metadata": {},
   "outputs": [
    {
     "name": "stdout",
     "output_type": "stream",
     "text": [
      "0 0\n"
     ]
    }
   ],
   "source": [
    "# Unpacking tuple\n",
    "point = (0,0)\n",
    "x, b = point\n",
    "print(x, b)"
   ]
  },
  {
   "cell_type": "code",
   "execution_count": 2,
   "id": "64b316aa-3fb7-428a-8ee8-a8c1f6cc8cc4",
   "metadata": {},
   "outputs": [
    {
     "ename": "ValueError",
     "evalue": "too many values to unpack (expected 2)",
     "output_type": "error",
     "traceback": [
      "\u001b[0;31m---------------------------------------------------------------------------\u001b[0m",
      "\u001b[0;31mValueError\u001b[0m                                Traceback (most recent call last)",
      "Cell \u001b[0;32mIn[2], line 2\u001b[0m\n\u001b[1;32m      1\u001b[0m names \u001b[38;5;241m=\u001b[39m [ \u001b[38;5;124m'\u001b[39m\u001b[38;5;124mAffan\u001b[39m\u001b[38;5;124m'\u001b[39m, \u001b[38;5;124m'\u001b[39m\u001b[38;5;124mFurqan\u001b[39m\u001b[38;5;124m'\u001b[39m, \u001b[38;5;124m'\u001b[39m\u001b[38;5;124mAnas\u001b[39m\u001b[38;5;124m'\u001b[39m ]\n\u001b[0;32m----> 2\u001b[0m n1, n2 \u001b[38;5;241m=\u001b[39m names\n\u001b[1;32m      3\u001b[0m \u001b[38;5;28mprint\u001b[39m(n1)\n",
      "\u001b[0;31mValueError\u001b[0m: too many values to unpack (expected 2)"
     ]
    }
   ],
   "source": [
    "# Number of variables must be equal to number of elements in the list\n",
    "names = [ 'Affan', 'Furqan', 'Anas' ]\n",
    "n1, n2 = names # ValurError: too many values to unpack"
   ]
  },
  {
   "cell_type": "code",
   "execution_count": null,
   "id": "05efe0a1-6795-48ff-9ccd-d5a2d0da44ad",
   "metadata": {},
   "outputs": [],
   "source": []
  }
 ],
 "metadata": {
  "kernelspec": {
   "display_name": "Python 3 (ipykernel)",
   "language": "python",
   "name": "python3"
  },
  "language_info": {
   "codemirror_mode": {
    "name": "ipython",
    "version": 3
   },
   "file_extension": ".py",
   "mimetype": "text/x-python",
   "name": "python",
   "nbconvert_exporter": "python",
   "pygments_lexer": "ipython3",
   "version": "3.12.5"
  }
 },
 "nbformat": 4,
 "nbformat_minor": 5
}

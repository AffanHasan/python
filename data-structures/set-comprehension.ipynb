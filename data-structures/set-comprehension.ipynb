{
 "cells": [
  {
   "cell_type": "markdown",
   "id": "adf54462-e602-489d-a3a4-fdb4203028ed",
   "metadata": {},
   "source": [
    "Similar to list set comprehension is also supported, just the syntax is ***{}*** instead of ***[]***"
   ]
  },
  {
   "cell_type": "code",
   "execution_count": 1,
   "id": "d233b142-abe0-4a07-bc5a-13a0cdc49863",
   "metadata": {},
   "outputs": [
    {
     "data": {
      "text/plain": [
       "{'d', 'f', 'j', 's'}"
      ]
     },
     "execution_count": 1,
     "metadata": {},
     "output_type": "execute_result"
    }
   ],
   "source": [
    "# set comprehension\n",
    "random_letters = 'absfsjdfdsfdsdfds'\n",
    "# filter out abc\n",
    "{ x for x in random_letters if x not in 'abc' }"
   ]
  },
  {
   "cell_type": "code",
   "execution_count": null,
   "id": "ab45d35f-b3b7-4fdd-beb1-a3e43fcc6c1a",
   "metadata": {},
   "outputs": [],
   "source": []
  }
 ],
 "metadata": {
  "kernelspec": {
   "display_name": "Python 3 (ipykernel)",
   "language": "python",
   "name": "python3"
  },
  "language_info": {
   "codemirror_mode": {
    "name": "ipython",
    "version": 3
   },
   "file_extension": ".py",
   "mimetype": "text/x-python",
   "name": "python",
   "nbconvert_exporter": "python",
   "pygments_lexer": "ipython3",
   "version": "3.12.5"
  }
 },
 "nbformat": 4,
 "nbformat_minor": 5
}

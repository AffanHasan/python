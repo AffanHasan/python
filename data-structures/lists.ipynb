{
 "cells": [
  {
   "cell_type": "markdown",
   "id": "c9718730-0b74-4603-9669-7e05e489706c",
   "metadata": {},
   "source": [
    "# List"
   ]
  }
 ],
 "metadata": {
  "kernelspec": {
   "display_name": "Python 3 (ipykernel)",
   "language": "python",
   "name": "python3"
  },
  "language_info": {
   "codemirror_mode": {
    "name": "ipython",
    "version": 3
   },
   "file_extension": ".py",
   "mimetype": "text/x-python",
   "name": "python",
   "nbconvert_exporter": "python",
   "pygments_lexer": "ipython3",
   "version": "3.12.5"
  }
 },
 "nbformat": 4,
 "nbformat_minor": 5
}

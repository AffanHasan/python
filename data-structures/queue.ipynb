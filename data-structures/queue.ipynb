{
 "cells": [
  {
   "cell_type": "markdown",
   "id": "c2acbc97-50dd-4a3c-b196-2c639bef8e31",
   "metadata": {},
   "source": [
    "# Queue\n",
    "Queue can be created using ***append*** and ***popleft"
   ]
  }
 ],
 "metadata": {
  "kernelspec": {
   "display_name": "Python 3 (ipykernel)",
   "language": "python",
   "name": "python3"
  },
  "language_info": {
   "codemirror_mode": {
    "name": "ipython",
    "version": 3
   },
   "file_extension": ".py",
   "mimetype": "text/x-python",
   "name": "python",
   "nbconvert_exporter": "python",
   "pygments_lexer": "ipython3",
   "version": "3.12.5"
  }
 },
 "nbformat": 4,
 "nbformat_minor": 5
}

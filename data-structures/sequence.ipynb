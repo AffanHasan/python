{
 "cells": [
  {
   "cell_type": "code",
   "execution_count": 3,
   "id": "18810684-f005-4b80-a33a-7fc1224620bf",
   "metadata": {},
   "outputs": [
    {
     "data": {
      "text/plain": [
       "(1, 'Affan', 55.6)"
      ]
     },
     "execution_count": 3,
     "metadata": {},
     "output_type": "execute_result"
    }
   ],
   "source": [
    "# Sequence packing\n",
    "t = 1,'Affan', 55.6\n",
    "t"
   ]
  },
  {
   "cell_type": "code",
   "execution_count": 7,
   "id": "d65fb1cf-57bf-4614-9b99-f30b279eff31",
   "metadata": {},
   "outputs": [
    {
     "name": "stdout",
     "output_type": "stream",
     "text": [
      "1, Affan, 55.6\n"
     ]
    }
   ],
   "source": [
    "# Sequence unpacking\n",
    "t = 1,'Affan', 55.6\n",
    "x, y, z = t\n",
    "print(f\"{x}, {y}, {z}\")"
   ]
  },
  {
   "cell_type": "code",
   "execution_count": null,
   "id": "f464d394-69e3-4026-be2e-d79ad9d9002a",
   "metadata": {},
   "outputs": [],
   "source": []
  }
 ],
 "metadata": {
  "kernelspec": {
   "display_name": "Python 3 (ipykernel)",
   "language": "python",
   "name": "python3"
  },
  "language_info": {
   "codemirror_mode": {
    "name": "ipython",
    "version": 3
   },
   "file_extension": ".py",
   "mimetype": "text/x-python",
   "name": "python",
   "nbconvert_exporter": "python",
   "pygments_lexer": "ipython3",
   "version": "3.12.5"
  }
 },
 "nbformat": 4,
 "nbformat_minor": 5
}

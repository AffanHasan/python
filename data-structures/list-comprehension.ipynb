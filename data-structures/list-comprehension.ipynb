{
 "cells": [
  {
   "cell_type": "markdown",
   "id": "94429a7b-d8b9-4d62-9ce9-5a35a2d019d3",
   "metadata": {},
   "source": [
    "# List Comprehension\n",
    "***Definition 1:*** This is a concise way to create new lists by applying a mapper function to the elements of and existing sequence.\n",
    "\n",
    "***Definition 2:*** It is a concise way to create new lists by applying a filter to the elements of an existing sequence.\n",
    "\n",
    "***Definition 3:*** In list comprehension we can create a new list by combining together 2 or more sequences.\n",
    "\n"
   ]
  },
  {
   "cell_type": "markdown",
   "id": "5a7f21b1-31ff-46b0-8797-5fbb87321c49",
   "metadata": {},
   "source": [
    "### Use Cases\n",
    "* Filtering elements of a sequence into a new list.\n",
    "* Combining the elements of 2 different lists\n",
    "* Generating a list of tuples containing square root of numbers in an existing sequence"
   ]
  },
  {
   "cell_type": "markdown",
   "id": "96d05524-b200-4c74-a533-8c06802ca825",
   "metadata": {},
   "source": [
    "### Examples"
   ]
  },
  {
   "cell_type": "code",
   "execution_count": 1,
   "id": "e3b42618-a997-402e-aa8a-f44c85759514",
   "metadata": {},
   "outputs": [
    {
     "data": {
      "text/plain": [
       "[0, 2, 4, 6, 8, 10, 12, 14, 16, 18]"
      ]
     },
     "execution_count": 1,
     "metadata": {},
     "output_type": "execute_result"
    }
   ],
   "source": [
    "# Square root of numbers 1-10\n",
    "[x*2 for x in range(10)]"
   ]
  },
  {
   "cell_type": "code",
   "execution_count": 2,
   "id": "b05451ad-48b9-4a0a-9a27-820e14c3208f",
   "metadata": {},
   "outputs": [
    {
     "data": {
      "text/plain": [
       "[13, 15]"
      ]
     },
     "execution_count": 2,
     "metadata": {},
     "output_type": "execute_result"
    }
   ],
   "source": [
    "# Filtering odd numbers in a sequence\n",
    "[x for x in [10, 20, 13, 15, 18] if x % 2 != 0]"
   ]
  },
  {
   "cell_type": "code",
   "execution_count": 5,
   "id": "eb17f4ce-4cd0-4f32-ba06-9d3729680eb1",
   "metadata": {},
   "outputs": [
    {
     "data": {
      "text/plain": [
       "[(1, 2), (3, 4), (5, 6)]"
      ]
     },
     "execution_count": 5,
     "metadata": {},
     "output_type": "execute_result"
    }
   ],
   "source": [
    "# Combine 2 lists together\n",
    "[(x, y) for x in [1,3,5,7] for y in [2,4,6] if x+1 == y]"
   ]
  },
  {
   "cell_type": "code",
   "execution_count": 1,
   "id": "8ccaf5d5-2bfe-4b9f-8134-357572b26f7f",
   "metadata": {},
   "outputs": [
    {
     "data": {
      "text/plain": [
       "[[1, 5, 9], [2, 6, 10], [3, 7, 11], [4, 8, 12]]"
      ]
     },
     "execution_count": 1,
     "metadata": {},
     "output_type": "execute_result"
    }
   ],
   "source": [
    "# Nested Comprehension\n",
    "# consider following matrix\n",
    "matrix = [\n",
    "    [1,2,3,4],\n",
    "    [5,6,7,8],\n",
    "    [9,10,11,12]\n",
    "]\n",
    "# transpose this matrix\n",
    "[[row[i] for row in matrix] for i in range(4)]"
   ]
  },
  {
   "cell_type": "code",
   "execution_count": null,
   "id": "f6055a56-46cc-4298-8748-7b65a5bfb034",
   "metadata": {},
   "outputs": [],
   "source": []
  }
 ],
 "metadata": {
  "kernelspec": {
   "display_name": "Python 3 (ipykernel)",
   "language": "python",
   "name": "python3"
  },
  "language_info": {
   "codemirror_mode": {
    "name": "ipython",
    "version": 3
   },
   "file_extension": ".py",
   "mimetype": "text/x-python",
   "name": "python",
   "nbconvert_exporter": "python",
   "pygments_lexer": "ipython3",
   "version": "3.12.5"
  }
 },
 "nbformat": 4,
 "nbformat_minor": 5
}

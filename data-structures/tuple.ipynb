{
 "cells": [
  {
   "cell_type": "markdown",
   "id": "771da2d8-aab0-40b6-ab2d-c869c581e124",
   "metadata": {},
   "source": [
    "# Tuple\n",
    "* Tuple is also a sequence\n",
    "* Tuple is immutable\n",
    "* Tuple can contain heterogeneous elements\n",
    "* Tuple elements can be accessed via indexing, ***un-packing*** or in case of ***named tuple*** via attribute\n"
   ]
  },
  {
   "cell_type": "code",
   "execution_count": 1,
   "id": "4504f40f-c8f4-4cb9-98dd-b559027ca47b",
   "metadata": {},
   "outputs": [
    {
     "ename": "TypeError",
     "evalue": "'tuple' object does not support item assignment",
     "output_type": "error",
     "traceback": [
      "\u001b[0;31m---------------------------------------------------------------------------\u001b[0m",
      "\u001b[0;31mTypeError\u001b[0m                                 Traceback (most recent call last)",
      "Cell \u001b[0;32mIn[1], line 2\u001b[0m\n\u001b[1;32m      1\u001b[0m t \u001b[38;5;241m=\u001b[39m (\u001b[38;5;124m'\u001b[39m\u001b[38;5;124mx\u001b[39m\u001b[38;5;124m'\u001b[39m, \u001b[38;5;241m1\u001b[39m)\n\u001b[0;32m----> 2\u001b[0m \u001b[43mt\u001b[49m\u001b[43m[\u001b[49m\u001b[38;5;241;43m0\u001b[39;49m\u001b[43m]\u001b[49m \u001b[38;5;241m=\u001b[39m \u001b[38;5;124m'\u001b[39m\u001b[38;5;124my\u001b[39m\u001b[38;5;124m'\u001b[39m\n",
      "\u001b[0;31mTypeError\u001b[0m: 'tuple' object does not support item assignment"
     ]
    }
   ],
   "source": [
    "# Tuple one initialized is immutable\n",
    "t = ('x', 1)\n",
    "t[0] = 'y'"
   ]
  },
  {
   "cell_type": "code",
   "execution_count": null,
   "id": "71c7d76e-ff53-4c18-a925-4ab49b5c3dbf",
   "metadata": {},
   "outputs": [],
   "source": [
    "# Named Tuples"
   ]
  }
 ],
 "metadata": {
  "kernelspec": {
   "display_name": "Python 3 (ipykernel)",
   "language": "python",
   "name": "python3"
  },
  "language_info": {
   "codemirror_mode": {
    "name": "ipython",
    "version": 3
   },
   "file_extension": ".py",
   "mimetype": "text/x-python",
   "name": "python",
   "nbconvert_exporter": "python",
   "pygments_lexer": "ipython3",
   "version": "3.12.5"
  }
 },
 "nbformat": 4,
 "nbformat_minor": 5
}

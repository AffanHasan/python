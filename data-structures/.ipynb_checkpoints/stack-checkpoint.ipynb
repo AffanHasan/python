{
 "cells": [
  {
   "cell_type": "markdown",
   "id": "c270e7b6-d5f7-4b14-a070-531ee2cffef8",
   "metadata": {},
   "source": [
    "# Stack\n",
    "Stack can be created using basic list methods such as ***append*** and ***pop***."
   ]
  }
 ],
 "metadata": {
  "kernelspec": {
   "display_name": "Python 3 (ipykernel)",
   "language": "python",
   "name": "python3"
  },
  "language_info": {
   "codemirror_mode": {
    "name": "ipython",
    "version": 3
   },
   "file_extension": ".py",
   "mimetype": "text/x-python",
   "name": "python",
   "nbconvert_exporter": "python",
   "pygments_lexer": "ipython3",
   "version": "3.12.5"
  }
 },
 "nbformat": 4,
 "nbformat_minor": 5
}

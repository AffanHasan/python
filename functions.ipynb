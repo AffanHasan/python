{
 "cells": [
  {
   "cell_type": "code",
   "execution_count": null,
   "id": "d1922532-7c2e-448c-a331-b6b348870294",
   "metadata": {},
   "outputs": [],
   "source": [
    "# snake cased"
   ]
  },
  {
   "cell_type": "code",
   "execution_count": 6,
   "id": "1514dc3a-aa56-4895-8c09-799dfa518c7b",
   "metadata": {},
   "outputs": [
    {
     "name": "stdout",
     "output_type": "stream",
     "text": [
      "This is sample function documentation.\n",
      "By Affan Hasan\n"
     ]
    }
   ],
   "source": [
    "# Docstrings\n",
    "# This is function documentation, which is utilized by the tools to generate API documentaion like javadocs\n",
    "\n",
    "def doc_string():\n",
    "    \"\"\"This is sample function documentation.\n",
    "By Affan Hasan\"\"\"\n",
    "    pass\n",
    "print(doc_string.__doc__)"
   ]
  },
  {
   "cell_type": "code",
   "execution_count": 3,
   "id": "8116f2dc-e7f5-4989-940f-091c04f93889",
   "metadata": {},
   "outputs": [
    {
     "name": "stdout",
     "output_type": "stream",
     "text": [
      "Hello John Smith!\n",
      "Hello John Smith!\n",
      "Hello John Smith!\n"
     ]
    }
   ],
   "source": [
    "# Local Symbol Table\n",
    "\"\"\"\n",
    "In every python function whenever a variable is referenced it first look for a variable within the function scope, \n",
    "if it cannot find that variable in this function then it looks in the enclosing function for this value and \n",
    "if it do not find it then it will look into global definitions\n",
    "and then it will look for built-in names i.e the variables which are available without importing any module\n",
    "\"\"\"\n",
    "\n",
    "# variable lookup in function local symbol table\n",
    "def function():\n",
    "    name = \"John Smith\"\n",
    "    print(f\"Hello {name}!\")\n",
    "function()\n",
    "\n",
    "# variable lookup in enclosing function\n",
    "def enclosing_function1():\n",
    "    token = \"John Smith\"\n",
    "    def nested_function():\n",
    "        print(f\"Hello {token}!\")\n",
    "    nested_function()\n",
    "enclosing_function1()\n",
    "\n",
    "# variable lookup in global context\n",
    "name = \"John Smith\"\n",
    "def enclosing_function2():\n",
    "    def nested_function():\n",
    "        print(f\"Hello {name}!\")\n",
    "    nested_function()\n",
    "enclosing_function2()"
   ]
  },
  {
   "cell_type": "code",
   "execution_count": 38,
   "id": "e8179f0d-575c-47b9-8555-fc298916108f",
   "metadata": {},
   "outputs": [
    {
     "name": "stdout",
     "output_type": "stream",
     "text": [
      "None\n"
     ]
    }
   ],
   "source": [
    "# None Return Type\n",
    "def none_return_type():\n",
    "    pass\n",
    "print(none_return_type())"
   ]
  },
  {
   "cell_type": "code",
   "execution_count": 4,
   "id": "33ca4589-df7f-44b3-b5b5-e23e1a440e56",
   "metadata": {},
   "outputs": [
    {
     "name": "stdout",
     "output_type": "stream",
     "text": [
      "Hello Affan\n"
     ]
    }
   ],
   "source": [
    "# Default values for parameters\n",
    "def default_parameters(name, greeting = \"Hello\"):\n",
    "    print(f\"{greeting} {name}\")\n",
    "default_parameters(\"Affan\") # Here greeting is not provided and default value will be used here"
   ]
  },
  {
   "cell_type": "code",
   "execution_count": null,
   "id": "b812a7cd-418c-42f4-8cfb-3c9e5b14c0f9",
   "metadata": {},
   "outputs": [],
   "source": [
    "# Standarad Parameters"
   ]
  },
  {
   "cell_type": "code",
   "execution_count": null,
   "id": "74b64f00-be0b-42a4-abd8-e06b695e6d80",
   "metadata": {},
   "outputs": [],
   "source": [
    "# Positional Parameters"
   ]
  },
  {
   "cell_type": "code",
   "execution_count": null,
   "id": "accc974c-18b7-428b-9cca-ac8aeb1e85d1",
   "metadata": {},
   "outputs": [],
   "source": [
    "# Keyword Parameters / Optional Parameters"
   ]
  },
  {
   "cell_type": "code",
   "execution_count": null,
   "id": "a2266633-2010-4e56-bfb5-702f15e6206e",
   "metadata": {},
   "outputs": [],
   "source": [
    "# Arbitrary arguments "
   ]
  },
  {
   "cell_type": "code",
   "execution_count": null,
   "id": "0c7509b0-db8a-41ae-8988-0992a8d44548",
   "metadata": {},
   "outputs": [],
   "source": [
    "# Unpacking the arguments"
   ]
  },
  {
   "cell_type": "code",
   "execution_count": 1,
   "id": "7ece5a34-a1f9-4dd0-9694-70cb77029a47",
   "metadata": {},
   "outputs": [
    {
     "data": {
      "text/plain": [
       "43"
      ]
     },
     "execution_count": 1,
     "metadata": {},
     "output_type": "execute_result"
    }
   ],
   "source": [
    "# Lambda expressions\n",
    "# Lambda expressions are inner/nested functions. At the time of evaluation the Lambda functions locks-up the surrounding varibale value.\n",
    "\n",
    "# Lambda expressions keeps the scope of their surrounding variables at the time of creation\n",
    "def make_incrementor(n):\n",
    "    return lambda x: x + n\n",
    "\n",
    "incrementor_lambda = make_incrementor(42)\n",
    "incrementor_lambda(1)"
   ]
  },
  {
   "cell_type": "code",
   "execution_count": 7,
   "id": "8154ca2d-6eea-4dbf-b5d8-07613fa55f3e",
   "metadata": {},
   "outputs": [
    {
     "name": "stdout",
     "output_type": "stream",
     "text": [
      "range(0, 10)\n"
     ]
    }
   ],
   "source": [
    "# Function annotations\n"
   ]
  },
  {
   "cell_type": "code",
   "execution_count": null,
   "id": "2f19daf7-413a-4184-b9c7-d3200e6cb158",
   "metadata": {},
   "outputs": [],
   "source": []
  }
 ],
 "metadata": {
  "kernelspec": {
   "display_name": "Python 3 (ipykernel)",
   "language": "python",
   "name": "python3"
  },
  "language_info": {
   "codemirror_mode": {
    "name": "ipython",
    "version": 3
   },
   "file_extension": ".py",
   "mimetype": "text/x-python",
   "name": "python",
   "nbconvert_exporter": "python",
   "pygments_lexer": "ipython3",
   "version": "3.12.5"
  }
 },
 "nbformat": 4,
 "nbformat_minor": 5
}

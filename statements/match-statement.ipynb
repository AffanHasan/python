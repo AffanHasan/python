{
 "cells": [
  {
   "attachments": {},
   "cell_type": "markdown",
   "id": "91373c78-0176-4be9-ad14-50f066584e07",
   "metadata": {},
   "source": [
    "# Match Statement\n",
    "Match statement is powerful. It can match integers, string literals, regular expressions & python objects such as classes & lists.\n",
    "Further it can have a complex form called 'guard' in which we can additionally have an \"if\" statement serving as a guard."
   ]
  },
  {
   "cell_type": "code",
   "execution_count": 1,
   "id": "3fc0eab7-4bb4-45b4-a141-1efca94bf6a5",
   "metadata": {},
   "outputs": [
    {
     "name": "stdout",
     "output_type": "stream",
     "text": [
      "default case\n"
     ]
    }
   ],
   "source": [
    "# Default Case\n",
    "x = 6\n",
    "match x:\n",
    "    case 1:\n",
    "        pass\n",
    "    case _:\n",
    "        print(\"default case\")"
   ]
  },
  {
   "cell_type": "code",
   "execution_count": 2,
   "id": "42b927cd-d704-413e-8ee6-e8279e0b9845",
   "metadata": {},
   "outputs": [
    {
     "name": "stdout",
     "output_type": "stream",
     "text": [
      "List Matched\n"
     ]
    }
   ],
   "source": [
    "# Matching List\n",
    "names = ['Affan', 'Zaeem', 'Aazim']\n",
    "match names:\n",
    "    case ['Affan']:\n",
    "        pass\n",
    "    case ['Affan', 'Zaeem', 'Aazim']:\n",
    "        print(\"List Matched\")"
   ]
  },
  {
   "cell_type": "code",
   "execution_count": 3,
   "id": "d4b1e212-404f-499b-ac24-21c3374a79cf",
   "metadata": {},
   "outputs": [
    {
     "name": "stdout",
     "output_type": "stream",
     "text": [
      "String Literal Matched\n"
     ]
    }
   ],
   "source": [
    "# Matching String Literal\n",
    "name = 'Affan'\n",
    "match name:\n",
    "    case \"Affan\":\n",
    "        print(\"String Literal Matched\")"
   ]
  },
  {
   "cell_type": "code",
   "execution_count": 4,
   "id": "64631b9b-b776-498e-9569-3faa610f34eb",
   "metadata": {},
   "outputs": [
    {
     "name": "stdout",
     "output_type": "stream",
     "text": [
      "Number matched\n"
     ]
    }
   ],
   "source": [
    "# Matching Numbers:\n",
    "x = 6\n",
    "match x:\n",
    "    case 8:\n",
    "        pass\n",
    "    case 6:\n",
    "        print(\"Number matched\")"
   ]
  },
  {
   "cell_type": "code",
   "execution_count": 5,
   "id": "de5bdce8-c087-49c1-84f6-34278b21f4aa",
   "metadata": {},
   "outputs": [],
   "source": [
    "# Matching Regular Expressions"
   ]
  },
  {
   "cell_type": "code",
   "execution_count": 6,
   "id": "6d445ec8-c823-41c5-8861-3b7338f3ff93",
   "metadata": {},
   "outputs": [],
   "source": [
    "# Matching Enumerations"
   ]
  },
  {
   "cell_type": "code",
   "execution_count": 7,
   "id": "943532e7-52c7-4a7d-81c4-40fc5ceb508d",
   "metadata": {},
   "outputs": [
    {
     "name": "stdout",
     "output_type": "stream",
     "text": [
      "At origin\n"
     ]
    }
   ],
   "source": [
    "# Guard Statement\n",
    "point = (0,0)\n",
    "x,y = 0,0\n",
    "\n",
    "match point:\n",
    "    case (x, y) if x==0 & y==0: # here if serves as an additional guard for this case\n",
    "        print(\"At origin\")"
   ]
  },
  {
   "cell_type": "code",
   "execution_count": null,
   "id": "5d553925-0b2f-4851-81ee-8ed3b61ae530",
   "metadata": {},
   "outputs": [],
   "source": []
  }
 ],
 "metadata": {
  "kernelspec": {
   "display_name": "Python 3 (ipykernel)",
   "language": "python",
   "name": "python3"
  },
  "language_info": {
   "codemirror_mode": {
    "name": "ipython",
    "version": 3
   },
   "file_extension": ".py",
   "mimetype": "text/x-python",
   "name": "python",
   "nbconvert_exporter": "python",
   "pygments_lexer": "ipython3",
   "version": "3.12.5"
  }
 },
 "nbformat": 4,
 "nbformat_minor": 5
}

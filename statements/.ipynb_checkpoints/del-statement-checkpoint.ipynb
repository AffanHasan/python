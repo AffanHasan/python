{
 "cells": [
  {
   "cell_type": "markdown",
   "id": "38c13198-0819-4f37-84bc-4c49601e7c77",
   "metadata": {},
   "source": [
    "# del Statement\n",
    "* This statement is used to delete a single or a range of elements from a list\n",
    "* This statement is also used to delete entire variables"
   ]
  },
  {
   "cell_type": "code",
   "execution_count": 1,
   "id": "e5a6449f-bf3b-466a-b4bd-0912c4f22348",
   "metadata": {},
   "outputs": [
    {
     "data": {
      "text/plain": [
       "[2, 3]"
      ]
     },
     "execution_count": 1,
     "metadata": {},
     "output_type": "execute_result"
    }
   ],
   "source": [
    "# deleting an element from list\n",
    "list = [1,2,3]\n",
    "del list[0]\n",
    "list"
   ]
  },
  {
   "cell_type": "code",
   "execution_count": 3,
   "id": "f0b5748e-0187-4b82-95c2-b6d3ecfd0d64",
   "metadata": {},
   "outputs": [
    {
     "data": {
      "text/plain": [
       "[1, 3, 4]"
      ]
     },
     "execution_count": 3,
     "metadata": {},
     "output_type": "execute_result"
    }
   ],
   "source": [
    "# deleting range of elements from list\n",
    "list = [1,2,3,4]\n",
    "del list[1:2]\n",
    "list"
   ]
  },
  {
   "cell_type": "markdown",
   "id": "1a2affcb-4bcb-402d-8896-7f66366f7bd8",
   "metadata": {},
   "source": []
  },
  {
   "cell_type": "code",
   "execution_count": 5,
   "id": "d58fd35d-7969-4bd9-9b93-5a34a098852a",
   "metadata": {},
   "outputs": [
    {
     "ename": "NameError",
     "evalue": "name 'name' is not defined",
     "output_type": "error",
     "traceback": [
      "\u001b[0;31m---------------------------------------------------------------------------\u001b[0m",
      "\u001b[0;31mNameError\u001b[0m                                 Traceback (most recent call last)",
      "Cell \u001b[0;32mIn[5], line 4\u001b[0m\n\u001b[1;32m      2\u001b[0m name \u001b[38;5;241m=\u001b[39m \u001b[38;5;124m'\u001b[39m\u001b[38;5;124mAffan\u001b[39m\u001b[38;5;124m'\u001b[39m\n\u001b[1;32m      3\u001b[0m \u001b[38;5;28;01mdel\u001b[39;00m name\n\u001b[0;32m----> 4\u001b[0m \u001b[43mname\u001b[49m\n",
      "\u001b[0;31mNameError\u001b[0m: name 'name' is not defined"
     ]
    }
   ],
   "source": [
    "# deleting an entire variable\n",
    "name = 'Affan'\n",
    "del name\n",
    "name"
   ]
  },
  {
   "cell_type": "code",
   "execution_count": null,
   "id": "c6478fa5-3d47-43e5-b222-a9ce8283e392",
   "metadata": {},
   "outputs": [],
   "source": []
  }
 ],
 "metadata": {
  "kernelspec": {
   "display_name": "Python 3 (ipykernel)",
   "language": "python",
   "name": "python3"
  },
  "language_info": {
   "codemirror_mode": {
    "name": "ipython",
    "version": 3
   },
   "file_extension": ".py",
   "mimetype": "text/x-python",
   "name": "python",
   "nbconvert_exporter": "python",
   "pygments_lexer": "ipython3",
   "version": "3.12.5"
  }
 },
 "nbformat": 4,
 "nbformat_minor": 5
}

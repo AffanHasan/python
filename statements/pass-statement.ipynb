{
 "cells": [
  {
   "cell_type": "code",
   "execution_count": 3,
   "id": "4d6b50f3-5602-4bd8-adbe-12fb02c626d1",
   "metadata": {},
   "outputs": [],
   "source": [
    "# Pass statement is a special statement which is used when we need to not use an explicit statement\n",
    "def abstract_function():\n",
    "    pass # not effect just an empty function body"
   ]
  },
  {
   "cell_type": "code",
   "execution_count": null,
   "id": "45f00935-4845-41f9-b0b4-31a46161bb4b",
   "metadata": {},
   "outputs": [],
   "source": []
  }
 ],
 "metadata": {
  "kernelspec": {
   "display_name": "Python 3 (ipykernel)",
   "language": "python",
   "name": "python3"
  },
  "language_info": {
   "codemirror_mode": {
    "name": "ipython",
    "version": 3
   },
   "file_extension": ".py",
   "mimetype": "text/x-python",
   "name": "python",
   "nbconvert_exporter": "python",
   "pygments_lexer": "ipython3",
   "version": "3.12.5"
  }
 },
 "nbformat": 4,
 "nbformat_minor": 5
}

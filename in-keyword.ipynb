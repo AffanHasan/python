{
 "cells": [
  {
   "cell_type": "code",
   "execution_count": 2,
   "id": "35268631-0ed8-4ab7-a055-f107e2b2d812",
   "metadata": {},
   "outputs": [
    {
     "name": "stdout",
     "output_type": "stream",
     "text": [
      "Yes names includes 'Affan'\n"
     ]
    }
   ],
   "source": [
    "# In keyword used in sequence\n",
    "names = ['Affan', 'Furqan']\n",
    "if 'Affan' in names:\n",
    "    print(\"Yes names includes 'Affan'\")"
   ]
  },
  {
   "cell_type": "code",
   "execution_count": 3,
   "id": "586bcff5-a5b2-42cd-a1ef-068859c6f21b",
   "metadata": {},
   "outputs": [
    {
     "name": "stdout",
     "output_type": "stream",
     "text": [
      "Affan\n",
      "Furqan\n"
     ]
    }
   ],
   "source": [
    "# In Keyword in for loop\n",
    "names = ['Affan', 'Furqan']\n",
    "for name in names:\n",
    "    print(name)"
   ]
  },
  {
   "cell_type": "code",
   "execution_count": null,
   "id": "9ed55412-16b6-481a-824a-6d3e5de5130e",
   "metadata": {},
   "outputs": [],
   "source": []
  }
 ],
 "metadata": {
  "kernelspec": {
   "display_name": "Python 3 (ipykernel)",
   "language": "python",
   "name": "python3"
  },
  "language_info": {
   "codemirror_mode": {
    "name": "ipython",
    "version": 3
   },
   "file_extension": ".py",
   "mimetype": "text/x-python",
   "name": "python",
   "nbconvert_exporter": "python",
   "pygments_lexer": "ipython3",
   "version": "3.12.5"
  }
 },
 "nbformat": 4,
 "nbformat_minor": 5
}
